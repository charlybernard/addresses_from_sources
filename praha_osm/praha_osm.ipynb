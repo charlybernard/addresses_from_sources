{
 "cells": [
  {
   "cell_type": "code",
   "execution_count": 2,
   "metadata": {},
   "outputs": [],
   "source": [
    "import os\n",
    "import urllib.parse as up\n",
    "\n",
    "ont_file = \"address_ont.ttl\"\n",
    "data_file = \"addresses.csv\"\n",
    "query_file = \"query.txt\"\n",
    "mapping_file = \"mapping.json\"\n",
    "export_file = \"addresses-temp.ttl\"\n",
    "out_file = \"addresses.ttl\"\n",
    "\n",
    "export_format = \"TURTLE\"\n",
    "\n",
    "abs_ont_file = os.path.abspath(ont_file)\n",
    "abs_data_file = os.path.abspath(data_file)\n",
    "abs_mapping_file = os.path.abspath(mapping_file)\n",
    "abs_export_file = os.path.abspath(export_file)\n",
    "abs_out_file = os.path.abspath(out_file)\n",
    "\n",
    "project_name = \"praha_osm\" # This repository must exist in graphdb\n",
    "\n",
    "ontorefine_url = \"http://localhost:7333\"\n",
    "graphdb_url = \"http://localhost:7200\"\n",
    "\n",
    "# ontorefine_cmd = \"ontorefine-cli\"\n",
    "ontorefine_cmd = \"/opt/ontotext-refine/lib/app/bin/ontorefine-cli\""
   ]
  },
  {
   "cell_type": "code",
   "execution_count": 3,
   "metadata": {},
   "outputs": [],
   "source": [
    "# Launch Ontorefine before launching this command\n",
    "cmd = f\"{ontorefine_cmd} create \\\"{abs_data_file}\\\" -u \\\"{ontorefine_url}\\\" -n \\\"{project_name}\\\"\"\n",
    "\n",
    "msg = os.popen(cmd)\n",
    "\n",
    "# Get project_id from message given by CLI\n",
    "project_id = msg.read().split(\": \")[1].replace(\"\\n\", \"\")"
   ]
  },
  {
   "cell_type": "code",
   "execution_count": 4,
   "metadata": {},
   "outputs": [],
   "source": [
    "# Launch Ontorefine before launching this command\n",
    "\n",
    "cmd = f\"{ontorefine_cmd} rdf \\\"{project_id}\\\" -u {ontorefine_url} -m \\\"{mapping_file}\\\"\"\n",
    "out_content = os.popen(cmd)\n",
    "out_file = open(export_file, \"w\")\n",
    "out_file.write(out_content.read())\n",
    "out_file.close()"
   ]
  },
  {
   "cell_type": "code",
   "execution_count": 5,
   "metadata": {},
   "outputs": [
    {
     "name": "stdout",
     "output_type": "stream",
     "text": [
      "Successfully deleted project with identifier: 1942613334166\n"
     ]
    },
    {
     "data": {
      "text/plain": [
       "0"
      ]
     },
     "execution_count": 5,
     "metadata": {},
     "output_type": "execute_result"
    }
   ],
   "source": [
    "# Launch Ontorefine before launching this command\n",
    "\n",
    "cmd = f\"{ontorefine_cmd} delete \\\"{project_id}\\\" -u {ontorefine_url}\"\n",
    "os.system(cmd)"
   ]
  },
  {
   "cell_type": "code",
   "execution_count": 6,
   "metadata": {},
   "outputs": [
    {
     "name": "stdout",
     "output_type": "stream",
     "text": [
      "REPOSITORY EXISTS: repository already exists: praha_osm"
     ]
    },
    {
     "name": "stderr",
     "output_type": "stream",
     "text": [
      "  % Total    % Received % Xferd  Average Speed   Time    Time     Time  Current\n",
      "                                 Dload  Upload   Total   Spent    Left  Speed\n",
      "100    55  100    55    0     0   3135      0 --:--:-- --:--:-- --:--:--  3235\n"
     ]
    },
    {
     "data": {
      "text/plain": [
       "0"
      ]
     },
     "execution_count": 6,
     "metadata": {},
     "output_type": "execute_result"
    }
   ],
   "source": [
    "# Launch GraphDB before launching this command\n",
    "cmd = f\"curl -X PUT -H \\\"Content-Type:application/rdf+xml\\\" {graphdb_url}/repositories/{project_name}\"\n",
    "os.system(cmd)"
   ]
  },
  {
   "cell_type": "code",
   "execution_count": 7,
   "metadata": {},
   "outputs": [
    {
     "name": "stderr",
     "output_type": "stream",
     "text": [
      "  % Total    % Received % Xferd  Average Speed   Time    Time     Time  Current\n",
      "                                 Dload  Upload   Total   Spent    Left  Speed\n",
      "100 12.5M    0     0  100 12.5M      0  2010k  0:00:06  0:00:06 --:--:--  775k\n",
      "  % Total    % Received % Xferd  Average Speed   Time    Time     Time  Current\n",
      "                                 Dload  Upload   Total   Spent    Left  Speed\n",
      "100 19366    0     0  100 19366      0  13041  0:00:01  0:00:01 --:--:-- 13041\n"
     ]
    },
    {
     "data": {
      "text/plain": [
       "0"
      ]
     },
     "execution_count": 7,
     "metadata": {},
     "output_type": "execute_result"
    }
   ],
   "source": [
    "# Launch GraphDB before launching this command\n",
    "cmd1 = f\"curl -X POST -H \\\"Content-Type:application/x-turtle\\\" -T \\\"{abs_export_file}\\\" {graphdb_url}/repositories/{project_name}/statements\"\n",
    "cmd2 = f\"curl -X POST -H \\\"Content-Type:application/x-turtle\\\" -T \\\"{abs_ont_file}\\\" {graphdb_url}/repositories/{project_name}/statements\"\n",
    "os.system(cmd1)\n",
    "os.system(cmd2)"
   ]
  },
  {
   "cell_type": "code",
   "execution_count": 8,
   "metadata": {},
   "outputs": [
    {
     "name": "stderr",
     "output_type": "stream",
     "text": [
      "  % Total    % Received % Xferd  Average Speed   Time    Time     Time  Current\n",
      "                                 Dload  Upload   Total   Spent    Left  Speed\n",
      "100  3461    0     0  100  3461      0     79  0:00:43  0:00:43 --:--:--     0\n"
     ]
    },
    {
     "data": {
      "text/plain": [
       "0"
      ]
     },
     "execution_count": 8,
     "metadata": {},
     "output_type": "execute_result"
    }
   ],
   "source": [
    "# Launch GraphDB before launching this command\n",
    "fquery = open(query_file, \"r\")\n",
    "query = fquery.read()\n",
    "fquery.close()\n",
    "\n",
    "query_encoded = up.quote(query)\n",
    "cmd = f\"curl -X POST -H \\\"Content-Type:application/x-www-form-urlencoded\\\" -d \\\"update={query_encoded}\\\" {graphdb_url}/repositories/{project_name}/statements\"\n",
    "\n",
    "os.system(cmd)"
   ]
  }
 ],
 "metadata": {
  "kernelspec": {
   "display_name": "Python 3",
   "language": "python",
   "name": "python3"
  },
  "language_info": {
   "codemirror_mode": {
    "name": "ipython",
    "version": 3
   },
   "file_extension": ".py",
   "mimetype": "text/x-python",
   "name": "python",
   "nbconvert_exporter": "python",
   "pygments_lexer": "ipython3",
   "version": "3.10.12"
  },
  "orig_nbformat": 4
 },
 "nbformat": 4,
 "nbformat_minor": 2
}
