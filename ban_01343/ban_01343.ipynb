{
 "cells": [
  {
   "cell_type": "markdown",
   "metadata": {},
   "source": [
    "## Variables"
   ]
  },
  {
   "cell_type": "code",
   "execution_count": null,
   "metadata": {},
   "outputs": [],
   "source": [
    "import os\n",
    "import urllib.parse as up\n",
    "\n",
    "ont_file = \"address_ont.ttl\"\n",
    "data_file = \"addresses.csv\"\n",
    "query_file = \"query.txt\"\n",
    "mapping_file = \"mapping.json\"\n",
    "export_file = \"addresses-temp.ttl\"\n",
    "out_file = \"addresses.ttl\"\n",
    "\n",
    "out_folder = \"out_files\"\n",
    "if not os.path.exists(out_folder):\n",
    "    os.makedirs(out_folder)\n",
    "\n",
    "export_format = \"TURTLE\"\n",
    "\n",
    "abs_ont_file = os.path.abspath(ont_file)\n",
    "abs_data_file = os.path.abspath(data_file)\n",
    "abs_mapping_file = os.path.abspath(mapping_file)\n",
    "abs_export_file = os.path.abspath(os.path.join(out_folder,export_file))\n",
    "abs_out_file = os.path.abspath(out_file)\n",
    "\n",
    "project_name = \"ban_01343\" # This repository must exist in graphdb\n",
    "\n",
    "ontorefine_url = \"http://localhost:7333\"\n",
    "graphdb_url = \"http://localhost:7200\"\n",
    "\n",
    "# ontorefine_cmd = \"ontorefine-cli\"\n",
    "ontorefine_cmd = \"/opt/ontotext-refine/lib/app/bin/ontorefine-cli\"\n",
    "# ontorefine_cmd = \"/Applications/Ontotext\\ Refine.app/Contents/app/bin/ontorefine-cli\""
   ]
  },
  {
   "cell_type": "markdown",
   "metadata": {},
   "source": [
    "## Build a graph from data file"
   ]
  },
  {
   "cell_type": "markdown",
   "metadata": {},
   "source": [
    "### Mapping data file from mapping file\n",
    "\n",
    ":warning: Launch Ontorefine before launching theses commands (so that ontorefine_url works)\n"
   ]
  },
  {
   "cell_type": "code",
   "execution_count": null,
   "metadata": {},
   "outputs": [],
   "source": [
    "cmd = f\"{ontorefine_cmd} create \\\"{abs_data_file}\\\" -u \\\"{ontorefine_url}\\\" -n \\\"{project_name}\\\"\"\n",
    "\n",
    "msg = os.popen(cmd)\n",
    "\n",
    "# Get project_id from message given by CLI\n",
    "project_id = msg.read().split(\": \")[1].replace(\"\\n\", \"\")"
   ]
  },
  {
   "cell_type": "code",
   "execution_count": null,
   "metadata": {},
   "outputs": [],
   "source": [
    "cmd = f\"{ontorefine_cmd} rdf \\\"{project_id}\\\" -u {ontorefine_url} -m \\\"{mapping_file}\\\"\"\n",
    "out_content = os.popen(cmd)\n",
    "out_file = open(abs_export_file, \"w\")\n",
    "out_file.write(out_content.read())\n",
    "out_file.close()"
   ]
  },
  {
   "cell_type": "code",
   "execution_count": null,
   "metadata": {},
   "outputs": [],
   "source": [
    "cmd = f\"{ontorefine_cmd} delete \\\"{project_id}\\\" -u {ontorefine_url}\"\n",
    "os.system(cmd)"
   ]
  },
  {
   "cell_type": "markdown",
   "metadata": {},
   "source": [
    "### Cleaning data to remove duplications\n",
    "\n",
    ":warning: Launch GraphDB before launching theses commands (so that graphdb_url works). Repository whose id is `project_name` must exist (repository creation doesn't work here for the moment)\n"
   ]
  },
  {
   "cell_type": "markdown",
   "metadata": {},
   "source": [
    "Ensure repository exists and remove all triples in it"
   ]
  },
  {
   "cell_type": "code",
   "execution_count": null,
   "metadata": {},
   "outputs": [],
   "source": [
    "cmd1 = f\"curl -X PUT -H \\\"Content-Type:application/rdf+xml\\\" {graphdb_url}/repositories/{project_name}\"\n",
    "cmd2 = f\"curl -X DELETE -H \\\"Content-Type:application/x-turtle\\\" {graphdb_url}/repositories/{project_name}/statements\"\n",
    "\n",
    "os.system(cmd1)\n",
    "os.system(cmd2)"
   ]
  },
  {
   "cell_type": "markdown",
   "metadata": {},
   "source": [
    "Import ontology and triples created by Ontorefine part"
   ]
  },
  {
   "cell_type": "code",
   "execution_count": null,
   "metadata": {},
   "outputs": [],
   "source": [
    "cmd1 = f\"curl -X POST -H \\\"Content-Type:application/x-turtle\\\" -T \\\"{abs_export_file}\\\" {graphdb_url}/repositories/{project_name}/statements\"\n",
    "cmd2 = f\"curl -X POST -H \\\"Content-Type:application/x-turtle\\\" -T \\\"{abs_ont_file}\\\" {graphdb_url}/repositories/{project_name}/statements\"\n",
    "os.system(cmd1)\n",
    "os.system(cmd2)"
   ]
  },
  {
   "cell_type": "markdown",
   "metadata": {},
   "source": [
    "Clean data by removing duplicates"
   ]
  },
  {
   "cell_type": "code",
   "execution_count": null,
   "metadata": {},
   "outputs": [],
   "source": [
    "fquery = open(query_file, \"r\")\n",
    "query = fquery.read()\n",
    "fquery.close()\n",
    "\n",
    "query_encoded = up.quote(query)\n",
    "cmd = f\"curl -X POST -H \\\"Content-Type:application/x-www-form-urlencoded\\\" -d \\\"update={query_encoded}\\\" {graphdb_url}/repositories/{project_name}/statements\"\n",
    "\n",
    "os.system(cmd)"
   ]
  },
  {
   "cell_type": "markdown",
   "metadata": {},
   "source": [
    "## Query part"
   ]
  },
  {
   "cell_type": "markdown",
   "metadata": {},
   "source": [
    "Define function to execute a query and store out content in file"
   ]
  },
  {
   "cell_type": "code",
   "execution_count": null,
   "metadata": {},
   "outputs": [],
   "source": [
    "def execute_query(query, out_file_name, out_type=\"csv\"):\n",
    "    query_encoded = up.quote(query)\n",
    "    accept_opt = \"\"\n",
    "    if out_type == \"json\":\n",
    "        accept_opt = \"-H \\\"Accept: application/sparql-results+json\\\"\"\n",
    "    cmd = f\"curl -X POST -H \\\"Content-Type:application/x-www-form-urlencoded\\\" {accept_opt} -d \\\"query={query_encoded}\\\" {graphdb_url}/repositories/{project_name}\"\n",
    "\n",
    "    out = os.popen(cmd)\n",
    "    file = open(out_file_name,\"w\")\n",
    "    file.write(out.read())\n",
    "    file.close()"
   ]
  },
  {
   "cell_type": "markdown",
   "metadata": {},
   "source": [
    "Query to get addresses which target a housenumber within a defined bounding box"
   ]
  },
  {
   "cell_type": "code",
   "execution_count": null,
   "metadata": {},
   "outputs": [],
   "source": [
    "proj_uri = \"http://www.opengis.net/def/crs/OGC/1.3/CRS84\"\n",
    "polygon_wkt = \"POLYGON((4.957909552887547 46.2633019251873,4.965140788391698 46.2633019251873,4.965140788391698 46.258658479525806,4.957909552887547 46.258658479525806,4.957909552887547 46.2633019251873))\"\n",
    "out_file_name = \"query1-out.csv\"\n",
    "\n",
    "query = f\"\"\"\n",
    "PREFIX rdfs: <http://www.w3.org/2000/01/rdf-schema#>\n",
    "PREFIX rdf: <http://www.w3.org/1999/02/22-rdf-syntax-ns#>\n",
    "PREFIX addr: <http://rdf.geohistoricaldata.org/address#>\n",
    "PREFIX gsp: <http://www.opengis.net/ont/geosparql#>\n",
    "PREFIX gspf: <http://www.opengis.net/def/function/geosparql/>\n",
    "\n",
    "select ?s ?nb ?streetName ?coords where {{\n",
    "    ?s a addr:Address; addr:targets [rdfs:label ?nb;\n",
    "                       addr:isPartOf [addr:isLandmarkType addr:Thoroughfare; rdfs:label ?streetName];\n",
    "                                                                              gsp:asWKT ?coords].\n",
    "        FILTER (\n",
    "        gspf:sfWithin(\n",
    "            ?coords,\n",
    "            \"<{proj_uri}> {polygon_wkt}\"^^gsp:wktLiteral\n",
    "        )\n",
    "    )\n",
    "\n",
    "}}\n",
    "\"\"\"\n",
    "\n",
    "execute_query(query, os.path.join(out_folder,out_file_name))"
   ]
  },
  {
   "cell_type": "markdown",
   "metadata": {},
   "source": [
    "Query to get addresses along a street defined by its name."
   ]
  },
  {
   "cell_type": "code",
   "execution_count": null,
   "metadata": {},
   "outputs": [],
   "source": [
    "street_name = \"route de l'Amitié\"\n",
    "lang = \"fr\"\n",
    "out_file_name = \"query2-out.csv\"\n",
    "\n",
    "query = f\"\"\"\n",
    "PREFIX rdfs: <http://www.w3.org/2000/01/rdf-schema#>\n",
    "PREFIX rdf: <http://www.w3.org/1999/02/22-rdf-syntax-ns#>\n",
    "PREFIX addr: <http://rdf.geohistoricaldata.org/address#>\n",
    "PREFIX gsp: <http://www.opengis.net/ont/geosparql#>\n",
    "\n",
    "SELECT ?item ?addressLabel ?coords WHERE {{\n",
    "    ?item a addr:Address;\n",
    "          rdfs:label ?addressLabel; \n",
    "          addr:targets [addr:isLandmarkType addr:HouseNumber;\n",
    "          \taddr:isPartOf [rdfs:label ?streetName];\n",
    "            gsp:asWKT ?coords].\n",
    "    FILTER(LCASE(STR(?streetName)) = \\\"{street_name.lower()}\\\" && LANG(?streetName) = \\\"{lang}\\\")\n",
    "}}\n",
    "\"\"\"\n",
    "\n",
    "execute_query(query, os.path.join(out_folder,out_file_name))"
   ]
  },
  {
   "cell_type": "markdown",
   "metadata": {},
   "source": [
    "Query to get coordinates of an address"
   ]
  },
  {
   "cell_type": "code",
   "execution_count": null,
   "metadata": {},
   "outputs": [],
   "source": [
    "address_name = \"95 route de l'Amitié, 01380 Saint-Cyr-sur-Menthon\"\n",
    "lang = \"fr\"\n",
    "out_file_name = \"query3-out.csv\"\n",
    "\n",
    "query = f\"\"\"\n",
    "PREFIX rdfs: <http://www.w3.org/2000/01/rdf-schema#>\n",
    "PREFIX rdf: <http://www.w3.org/1999/02/22-rdf-syntax-ns#>\n",
    "PREFIX addr: <http://rdf.geohistoricaldata.org/address#>\n",
    "PREFIX gsp: <http://www.opengis.net/ont/geosparql#>\n",
    "\n",
    "SELECT ?item ?addressLabel ?coords WHERE {{\n",
    "    ?item a addr:Address;\n",
    "          rdfs:label ?addressLabel; \n",
    "          addr:targets [gsp:asWKT ?coords].\n",
    "    FILTER(LCASE(STR(?addressLabel)) = \\\"{address_name.lower()}\\\" && LANG(?addressLabel) = \\\"{lang}\\\")\n",
    "}}\n",
    "\"\"\"\n",
    "\n",
    "execute_query(query, os.path.join(out_folder,out_file_name))"
   ]
  }
 ],
 "metadata": {
  "kernelspec": {
   "display_name": "Python 3",
   "language": "python",
   "name": "python3"
  },
  "language_info": {
   "codemirror_mode": {
    "name": "ipython",
    "version": 3
   },
   "file_extension": ".py",
   "mimetype": "text/x-python",
   "name": "python",
   "nbconvert_exporter": "python",
   "pygments_lexer": "ipython3",
   "version": "3.10.12"
  },
  "orig_nbformat": 4
 },
 "nbformat": 4,
 "nbformat_minor": 2
}
