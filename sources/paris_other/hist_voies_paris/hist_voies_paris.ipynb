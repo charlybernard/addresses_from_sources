{
 "cells": [
  {
   "cell_type": "code",
   "execution_count": 20,
   "metadata": {},
   "outputs": [],
   "source": [
    "import os\n",
    "import urllib.parse as up\n",
    "from SPARQLWrapper import SPARQLWrapper, TURTLE\n",
    "import sys\n",
    "\n",
    "ont_file = \"address_ont.ttl\"\n",
    "data_file = \"voies-paris-2023.csv\"\n",
    "query_file = \"query.txt\"\n",
    "mapping_file = \"mapping.json\"\n",
    "export_file = \"addresses-temp.ttl\"\n",
    "out_file = \"addresses.ttl\"\n",
    "\n",
    "export_format = \"TURTLE\"\n",
    "\n",
    "abs_ont_file = os.path.abspath(ont_file)\n",
    "abs_data_file = os.path.abspath(data_file)\n",
    "abs_mapping_file = os.path.abspath(mapping_file)\n",
    "abs_export_file = os.path.abspath(export_file)\n",
    "abs_out_file = os.path.abspath(out_file)\n",
    "\n",
    "project_name = \"voies_paris_hist\" # This repository must exist in graphdb\n",
    "\n",
    "graphdb_url = \"http://localhost:7200\"\n",
    "endpoint_url = \"https://query.wikidata.org/sparql\""
   ]
  },
  {
   "cell_type": "code",
   "execution_count": 21,
   "metadata": {},
   "outputs": [],
   "source": [
    "def get_query_results(endpoint_url, query):\n",
    "    user_agent = \"WDQS-example Python/%s.%s\" % (sys.version_info[0], sys.version_info[1])\n",
    "    sparql = SPARQLWrapper(endpoint_url, agent=user_agent)\n",
    "    sparql.setQuery(query)\n",
    "    sparql.setReturnFormat(TURTLE)\n",
    "    return sparql.query().convert()"
   ]
  },
  {
   "cell_type": "code",
   "execution_count": 22,
   "metadata": {},
   "outputs": [],
   "source": [
    "query = \"\"\"\n",
    "PREFIX addr: <http://rdf.geohistoricaldata.org/address#>\n",
    "\n",
    "CONSTRUCT {\n",
    " ?street a addr:Landmark;\n",
    "           addr:isLandmarkType addr:Thoroughfare;\n",
    "           rdfs:label ?streetLabel;\n",
    "           skos:altLabel ?streetAltLabel;\n",
    "           addr:within ?loc.\n",
    "  ?street addr:hasOfficialName [rdfs:label ?officialName; ]\n",
    "}\n",
    "WHERE {\n",
    "  { ?street p:P361 [ps:P361 wd:Q16024163]. }\n",
    "  UNION\n",
    "  { ?street p:P361 [ps:P361 wd:Q107311481]. }\n",
    "  ?street wdt:P131 ?loc.\n",
    "  ?street rdfs:label ?streetLabel.\n",
    "  FILTER (LANG(?streetLabel) = \"fr\")\n",
    "  OPTIONAL {?street skos:altLabel ?streetAltLabel. FILTER (LANG(?streetAltLabel) = \"fr\")}\n",
    "  OPTIONAL {\n",
    "    ?street p:P1448 ?officialNameSt. \n",
    "    ?officialNameSt ps:P1448 ?officialName.\n",
    "    OPTIONAL{?officialNameSt pq:P580 ?startDate}\n",
    "    OPTIONAL{?officialNameSt pq:P582 ?endDate}\n",
    "    FILTER (LANG(?officialName) = \"fr\")\n",
    "    }\n",
    "}\n",
    "\"\"\""
   ]
  },
  {
   "cell_type": "code",
   "execution_count": 23,
   "metadata": {},
   "outputs": [
    {
     "name": "stderr",
     "output_type": "stream",
     "text": [
      "/home/CBernard2/.local/lib/python3.10/site-packages/SPARQLWrapper/Wrapper.py:1179: RuntimeWarning: Format requested was TURTLE, but RDF/XML (application/rdf+xml;charset=utf-8) has been returned by the endpoint\n",
      "  warnings.warn(\n"
     ]
    },
    {
     "data": {
      "text/plain": [
       "<Graph identifier=N193c947168ed4b6f917ec60b1320f84d (<class 'rdflib.graph.ConjunctiveGraph'>)>"
      ]
     },
     "execution_count": 23,
     "metadata": {},
     "output_type": "execute_result"
    }
   ],
   "source": [
    "get_query_results(endpoint_url, query).serialize(destination=abs_export_file)"
   ]
  },
  {
   "cell_type": "code",
   "execution_count": 24,
   "metadata": {},
   "outputs": [
    {
     "name": "stdout",
     "output_type": "stream",
     "text": [
      "REPOSITORY EXISTS: repository already exists: voies_paris_hist"
     ]
    },
    {
     "name": "stderr",
     "output_type": "stream",
     "text": [
      "  % Total    % Received % Xferd  Average Speed   Time    Time     Time  Current\n",
      "                                 Dload  Upload   Total   Spent    Left  Speed\n",
      "100    62  100    62    0     0   3653      0 --:--:-- --:--:-- --:--:--  3875\n",
      "  % Total    % Received % Xferd  Average Speed   Time    Time     Time  Current\n",
      "                                 Dload  Upload   Total   Spent    Left  Speed\n",
      "  0     0    0     0    0     0      0      0 --:--:-- --:--:-- --:--:--     0\n"
     ]
    },
    {
     "data": {
      "text/plain": [
       "0"
      ]
     },
     "execution_count": 24,
     "metadata": {},
     "output_type": "execute_result"
    }
   ],
   "source": [
    "# Launch GraphDB before launching this command\n",
    "cmd1 = f\"curl -X PUT -H \\\"Content-Type:application/rdf+xml\\\" {graphdb_url}/repositories/{project_name}\"\n",
    "cmd2 = f\"curl -X DELETE -H \\\"Content-Type:application/x-turtle\\\" {graphdb_url}/repositories/{project_name}/statements\"\n",
    "\n",
    "os.system(cmd1)\n",
    "os.system(cmd2)"
   ]
  },
  {
   "cell_type": "code",
   "execution_count": 25,
   "metadata": {},
   "outputs": [
    {
     "name": "stderr",
     "output_type": "stream",
     "text": [
      "  % Total    % Received % Xferd  Average Speed   Time    Time     Time  Current\n",
      "                                 Dload  Upload   Total   Spent    Left  Speed\n",
      "  0     0    0     0    0     0      0      0 --:--:-- --:--:-- --:--:--     0"
     ]
    },
    {
     "name": "stderr",
     "output_type": "stream",
     "text": [
      "100 2894k    0     0  100 2894k      0  1834k  0:00:01  0:00:01 --:--:-- 1834k\n",
      "  % Total    % Received % Xferd  Average Speed   Time    Time     Time  Current\n",
      "                                 Dload  Upload   Total   Spent    Left  Speed\n",
      "100 19366    0     0  100 19366      0   163k --:--:-- --:--:-- --:--:--  163k\n"
     ]
    },
    {
     "data": {
      "text/plain": [
       "0"
      ]
     },
     "execution_count": 25,
     "metadata": {},
     "output_type": "execute_result"
    }
   ],
   "source": [
    "# Launch GraphDB before launching this command\n",
    "cmd1 = f\"curl -X POST -H \\\"Content-Type:application/x-turtle\\\" -T \\\"{abs_export_file}\\\" {graphdb_url}/repositories/{project_name}/statements\"\n",
    "cmd2 = f\"curl -X POST -H \\\"Content-Type:application/x-turtle\\\" -T \\\"{abs_ont_file}\\\" {graphdb_url}/repositories/{project_name}/statements\"\n",
    "os.system(cmd1)\n",
    "os.system(cmd2)"
   ]
  }
 ],
 "metadata": {
  "kernelspec": {
   "display_name": "Python 3",
   "language": "python",
   "name": "python3"
  },
  "language_info": {
   "codemirror_mode": {
    "name": "ipython",
    "version": 3
   },
   "file_extension": ".py",
   "mimetype": "text/x-python",
   "name": "python",
   "nbconvert_exporter": "python",
   "pygments_lexer": "ipython3",
   "version": "3.10.12"
  },
  "orig_nbformat": 4
 },
 "nbformat": 4,
 "nbformat_minor": 2
}
