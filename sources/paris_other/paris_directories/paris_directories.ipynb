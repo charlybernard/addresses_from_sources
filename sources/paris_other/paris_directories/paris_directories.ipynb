{
 "cells": [
  {
   "cell_type": "markdown",
   "metadata": {},
   "source": [
    "## Variables"
   ]
  },
  {
   "cell_type": "markdown",
   "metadata": {},
   "source": [
    "### Import libraries"
   ]
  },
  {
   "cell_type": "code",
   "execution_count": 58,
   "metadata": {},
   "outputs": [],
   "source": [
    "import os\n",
    "import urllib.parse as up\n",
    "from rdflib import Graph, Namespace, Literal, URIRef\n",
    "from rdflib.namespace import RDF, RDFS, SKOS, OWL, NamespaceManager\n",
    "from SPARQLWrapper import SPARQLWrapper, TURTLE\n",
    "import uuid\n",
    "import sys\n",
    "import json"
   ]
  },
  {
   "cell_type": "markdown",
   "metadata": {},
   "source": [
    "### Define global variables"
   ]
  },
  {
   "cell_type": "code",
   "execution_count": 59,
   "metadata": {},
   "outputs": [],
   "source": [
    "ont_file = \"address_ont.ttl\"\n",
    "mapping_file = \"mapping.json\"\n",
    "out_wikidata_file = \"wikidata-temp.ttl\"\n",
    "out_addr_file = \"addr-temp.ttl\"\n",
    "addr_file = \"addresses.json\"\n",
    "\n",
    "temp_folder = \"tmp_files\"\n",
    "\n",
    "\n",
    "if not os.path.exists(temp_folder):\n",
    "    os.makedirs(temp_folder)\n",
    "\n",
    "export_format = \"TURTLE\"\n",
    "\n",
    "project_name = \"paris_directories\" # This repository must exist in graphdb\n",
    "addr_graph_name = \"addresses\"\n",
    "\n",
    "graphdb_url = \"http://localhost:7200\"\n",
    "endpoint_url = \"https://query.wikidata.org/sparql\"\n",
    "namespace_url = \"http://rdf.geohistoricaldata.org/address#\"\n",
    "\n",
    "# ontorefine_cmd = \"ontorefine-cli\"\n",
    "ontorefine_cmd = \"/opt/ontotext-refine/lib/app/bin/ontorefine-cli\"\n",
    "# ontorefine_cmd = \"/Applications/Ontotext\\ Refine.app/Contents/app/bin/ontorefine-cli\"\n"
   ]
  },
  {
   "cell_type": "markdown",
   "metadata": {},
   "source": [
    "## Functions to create / import graphs"
   ]
  },
  {
   "cell_type": "markdown",
   "metadata": {},
   "source": [
    "### Import created ttl file in GraphDB"
   ]
  },
  {
   "cell_type": "code",
   "execution_count": 60,
   "metadata": {},
   "outputs": [],
   "source": [
    "def import_ttl_file_in_graphdb(graphdb_url, repository_id, ttl_file, graph_name):\n",
    "    # cmd = f\"curl -X POST -H \\\"Content-Type:application/x-turtle\\\" -T \\\"{ttl_file}\\\" {graphdb_url}/repositories/{repository_id}/statements\"\n",
    "    cmd = f\"curl -X POST -H \\\"Content-Type:application/x-turtle\\\" -T \\\"{ttl_file}\\\" {graphdb_url}/repositories/{repository_id}/rdf-graphs/{graph_name}\"\n",
    "\n",
    "    os.system(cmd)"
   ]
  },
  {
   "cell_type": "markdown",
   "metadata": {},
   "source": [
    "### Export query result"
   ]
  },
  {
   "cell_type": "code",
   "execution_count": 61,
   "metadata": {},
   "outputs": [],
   "source": [
    "def get_query_results(endpoint_url, query):\n",
    "    user_agent = \"WDQS-example Python/%s.%s\" % (sys.version_info[0], sys.version_info[1])\n",
    "    sparql = SPARQLWrapper(endpoint_url, agent=user_agent)\n",
    "    sparql.setQuery(query)\n",
    "    sparql.setReturnFormat(TURTLE)\n",
    "    return sparql.query().convert()"
   ]
  },
  {
   "cell_type": "markdown",
   "metadata": {},
   "source": [
    "### Functions to create addresses from JSON file"
   ]
  },
  {
   "cell_type": "code",
   "execution_count": 107,
   "metadata": {},
   "outputs": [],
   "source": [
    "def create_address(g:Graph, namespace_url:str, label:str, lang:str, landmarks:list, spatial_relations:list, target:int=None, datetime:str=None):\n",
    "    namespace = Namespace(namespace_url)\n",
    "\n",
    "    landmark_uris = []\n",
    "    for landmark in landmarks:\n",
    "        landmark_uri = create_landmark(g, namespace, landmark, lang)\n",
    "        landmark_uris.append(landmark_uri)\n",
    "\n",
    "    if target is None:\n",
    "        target_uri = create_landmark(g, namespace, {}, lang)\n",
    "    else:\n",
    "        target_uri = landmark_uri[target]\n",
    "\n",
    "    next_addr_seg_uri = None\n",
    "    for spat_rel in reversed(spatial_relations):\n",
    "        spatial_rel_uri = create_spatial_relation(g, namespace, spat_rel[0], lang)\n",
    "        addr_seg_uri = generate_uri(namespace, \"AS_\")\n",
    "        try:\n",
    "            locatum = landmark_uris[spat_rel[1]]\n",
    "        except:\n",
    "            locatum = target_uri\n",
    "        relatums = []\n",
    "        for x in spat_rel[2]:\n",
    "            try:\n",
    "                relatums.append(landmark_uris[x])\n",
    "            except IndexError:\n",
    "                relatums.append(target_uri)\n",
    "\n",
    "        create_addr_segment(g, namespace, spatial_rel_uri, addr_seg_uri, locatum, relatums, next_addr_seg_uri)\n",
    "        next_addr_seg_uri = addr_seg_uri\n",
    "\n",
    "    create_address_main_elem(g, namespace, label, target_uri, next_addr_seg_uri, lang, datetime)\n",
    "\n",
    "def create_address_main_elem(g:Graph, namespace:Namespace, label, target_uri:URIRef, first_step_uri:URIRef, lang:str=None, datetime:str=None):\n",
    "    addr_uri = generate_uri(namespace, \"ADDR\")\n",
    "    g.add((addr_uri, RDF.type, namespace[\"Address\"]))\n",
    "    g.add((addr_uri, RDFS.label, Literal(label, lang=lang)))\n",
    "    g.add((addr_uri, namespace[\"targets\"], target_uri))\n",
    "    g.add((addr_uri, namespace[\"firstStep\"], first_step_uri))\n",
    "    if datetime is not None:\n",
    "        g.add((addr_uri, namespace[\"dateTime\"], Literal(datetime, datatype=\"http://www.w3.org/2001/XMLSchema#dateTime\")))\n",
    "\n",
    "def create_landmark(g:Graph, namespace:Namespace, landmark_dict:dict, lang:str=None):\n",
    "    landmark_types = {\"thoroughfare\":\"Thoroughfare\", \"undefined\":\"Undefined\", None: \"Undefined\", \"city\":\"City\", \"housenumber\":\"HouseNumber\", \"district\":\"District\"}\n",
    "    l_uri = generate_uri(namespace, \"LM\")\n",
    "    l_label = landmark_dict.get(\"label\")\n",
    "    l_type = landmark_types.get(landmark_dict.get(\"type\"))\n",
    "\n",
    "    g.add((l_uri, RDF.type, namespace[\"Landmark\"]))\n",
    "    g.add((l_uri, namespace[\"isLandmarkType\"], namespace[l_type]))\n",
    "\n",
    "    if l_label is not None:\n",
    "        g.add((l_uri, RDFS.label, Literal(l_label, lang=lang)))\n",
    "\n",
    "    return l_uri\n",
    "\n",
    "def create_addr_segment(g:Graph, namespace:Namespace, spatial_rel_uri:URIRef, addr_seg_uri:URIRef, locatum:URIRef, relatums:list[URIRef], next_addr_segment:URIRef=None):\n",
    "    if next_addr_segment is not None:\n",
    "        g.add((addr_seg_uri, RDF.type, namespace[\"addressSegment\"]))\n",
    "        g.add((addr_seg_uri, namespace[\"nextStep\"], next_addr_segment))\n",
    "    else:\n",
    "        g.add((addr_seg_uri, RDF.type, namespace[\"finalAddressSegment\"]))\n",
    "\n",
    "    g.add((addr_seg_uri, namespace[\"locatum\"], locatum))\n",
    "\n",
    "    for relatum in relatums:\n",
    "        g.add((addr_seg_uri, namespace[\"relatum\"], relatum))\n",
    "\n",
    "    g.add((addr_seg_uri, namespace[\"isSpatialRelationType\"], spatial_rel_uri))\n",
    "    \n",
    "def create_spatial_relation(g:Graph, namespace:Namespace, label:str, lang:str=None):\n",
    "    spatial_rel = generate_uri(namespace, \"SR\")\n",
    "    label_lang = Literal(label, lang=lang)\n",
    "    g.add((spatial_rel, RDF.type, OWL.NamedIndividual))\n",
    "    g.add((spatial_rel, RDF.type, namespace[\"AddressSegmentType\"]))\n",
    "    g.add((spatial_rel, RDF.type, SKOS.Concept))\n",
    "    g.add((spatial_rel, RDFS.label, label_lang))\n",
    "    return spatial_rel\n",
    "\n",
    "def generate_uri(namespace:Namespace, prefix:str=None):\n",
    "    if prefix is not None:\n",
    "        return namespace[f\"{prefix}_{uuid.uuid4().hex}\"]\n",
    "    else:\n",
    "        return namespace[uuid.uuid4().hex]"
   ]
  },
  {
   "cell_type": "markdown",
   "metadata": {},
   "source": [
    "## Process to create / import data"
   ]
  },
  {
   "cell_type": "markdown",
   "metadata": {},
   "source": [
    "### Queries to build graph from Wikidata"
   ]
  },
  {
   "cell_type": "markdown",
   "metadata": {},
   "source": [
    ":warning: Impossible to chain queries for Wikidata, it has to be split"
   ]
  },
  {
   "cell_type": "code",
   "execution_count": 63,
   "metadata": {},
   "outputs": [],
   "source": [
    "# Get streets of Paris, with label, altLabel and their locations\n",
    "query1 = \"\"\"\n",
    "PREFIX addr: <http://rdf.geohistoricaldata.org/address#>\n",
    "\n",
    "CONSTRUCT {\n",
    " ?street a addr:Landmark;\n",
    "           addr:isLandmarkType addr:Thoroughfare;\n",
    "           rdfs:label ?streetLabel;\n",
    "           skos:altLabel ?streetAltLabel;\n",
    "           addr:within ?loc.\n",
    "}\n",
    "WHERE {\n",
    "  { ?street p:P361 [ps:P361 wd:Q16024163]. }\n",
    "  UNION\n",
    "  { ?street p:P361 [ps:P361 wd:Q107311481]. }\n",
    "  ?street wdt:P131 ?loc.\n",
    "  ?street rdfs:label ?streetLabel.\n",
    "  FILTER (LANG(?streetLabel) = \"fr\")\n",
    "  OPTIONAL {?street skos:altLabel ?streetAltLabel. FILTER (LANG(?streetAltLabel) = \"fr\")}\n",
    "}\n",
    "\"\"\"\n",
    "\n",
    "# Get streets of Paris with the history of their official name\n",
    "query2 = \"\"\"\n",
    "PREFIX addr: <http://rdf.geohistoricaldata.org/address#>\n",
    "\n",
    "CONSTRUCT {\n",
    "  ?street addr:hasOfficialName _:bn.\n",
    "  _:bn rdfs:label ?officialName; addr:startDate ?startDate; addr:endDate ?endDate.\n",
    "}\n",
    "WHERE {\n",
    "  { ?street p:P361 [ps:P361 wd:Q16024163]. }\n",
    "  UNION\n",
    "  { ?street p:P361 [ps:P361 wd:Q107311481]. }\n",
    "    ?street p:P1448 ?officialNameSt. \n",
    "    ?officialNameSt ps:P1448 ?officialName.\n",
    "    OPTIONAL{?officialNameSt pq:P580 ?startDate}\n",
    "    OPTIONAL{?officialNameSt pq:P582 ?endDate}\n",
    "    #FILTER (LANG(?officialName) = \"fr\")\n",
    "}\n",
    "\"\"\"\n",
    "\n",
    "# Get related data of municipal arrondissements of Paris\n",
    "query3 = \"\"\"\n",
    "PREFIX addr: <http://rdf.geohistoricaldata.org/address#>\n",
    "\n",
    "CONSTRUCT {\n",
    "  ?arrdt a addr:Landmark;\n",
    "           addr:isLandmarkType addr:District;\n",
    "           rdfs:label ?arrdtLabel;\n",
    "           skos:altLabel ?arrdtAltLabel;\n",
    "           addr:within wd:Q90;\n",
    "           addr:startDate ?startDate.\n",
    "}\n",
    "WHERE {\n",
    "  ?arrdt wdt:P31 wd:Q702842; p:P131 [ps:P131 wd:Q90]; rdfs:label ?arrdtLabel; skos:altLabel ?arrdtAltLabel.\n",
    "  FILTER(LANG(?arrdtLabel) = \"fr\" && LANG(?arrdtAltLabel) = \"fr\")\n",
    "  OPTIONAL {?arrdt wdt:P571 ?startDate}\n",
    "}\n",
    "\"\"\"\n",
    "\n",
    "# Get related data of quartiers of Paris\n",
    "query4 = \"\"\"\n",
    "PREFIX addr: <http://rdf.geohistoricaldata.org/address#>\n",
    "\n",
    "CONSTRUCT {\n",
    "  ?quartier a addr:Landmark;\n",
    "           addr:isLandmarkType addr:District;\n",
    "           rdfs:label ?quartierLabel;\n",
    "           skos:altLabel ?quartierAltLabel;\n",
    "           addr:within ?loc.\n",
    "}\n",
    "WHERE {\n",
    "  ?quartier wdt:P31 wd:Q252916; rdfs:label ?quartierLabel; skos:altLabel ?quartierAltLabel; p:P131 [ps:P131 ?loc].\n",
    "  FILTER(LANG(?quartierLabel) = \"fr\" && LANG(?quartierAltLabel) = \"fr\")\n",
    "}\n",
    "\"\"\"\n",
    "\n",
    "# Get related data of Paris\n",
    "query5 = \"\"\"\n",
    "PREFIX addr: <http://rdf.geohistoricaldata.org/address#>\n",
    "\n",
    "CONSTRUCT {\n",
    "  ?paris a addr:Landmark;\n",
    "           addr:isLandmarkType addr:City;\n",
    "           rdfs:label ?parisLabel;\n",
    "           skos:altLabel ?parisAltLabel.\n",
    "}\n",
    "WHERE {\n",
    "  BIND (wd:Q90 AS ?paris)\n",
    "  ?paris rdfs:label ?parisLabel; skos:altLabel ?parisAltLabel.\n",
    "  FILTER(LANG(?parisLabel) = \"fr\" && LANG(?parisAltLabel) = \"fr\")\n",
    "}\n",
    "\"\"\""
   ]
  },
  {
   "cell_type": "markdown",
   "metadata": {},
   "source": [
    "### Extract street data of Paris from Wikidata"
   ]
  },
  {
   "cell_type": "code",
   "execution_count": 64,
   "metadata": {},
   "outputs": [],
   "source": [
    "abs_out_wikidata_file = os.path.abspath(os.path.join(temp_folder, out_wikidata_file))\n",
    "abs_out_addr_file = os.path.abspath(os.path.join(temp_folder, out_addr_file))\n"
   ]
  },
  {
   "cell_type": "code",
   "execution_count": 65,
   "metadata": {},
   "outputs": [
    {
     "name": "stderr",
     "output_type": "stream",
     "text": [
      "/home/CBernard2/.local/lib/python3.10/site-packages/SPARQLWrapper/Wrapper.py:1179: RuntimeWarning: Format requested was TURTLE, but RDF/XML (application/rdf+xml;charset=utf-8) has been returned by the endpoint\n",
      "  warnings.warn(\n"
     ]
    },
    {
     "data": {
      "text/plain": [
       "<Graph identifier=N44d13419450c4189994d2a7f64f5ca68 (<class 'rdflib.graph.ConjunctiveGraph'>)>"
      ]
     },
     "execution_count": 65,
     "metadata": {},
     "output_type": "execute_result"
    }
   ],
   "source": [
    "g = get_query_results(endpoint_url, query1)\n",
    "g += get_query_results(endpoint_url, query2)\n",
    "g += get_query_results(endpoint_url, query3)\n",
    "g += get_query_results(endpoint_url, query4)\n",
    "g += get_query_results(endpoint_url, query5)\n",
    "\n",
    "g.serialize(destination=abs_out_wikidata_file)"
   ]
  },
  {
   "cell_type": "markdown",
   "metadata": {},
   "source": [
    "### Remove all data of repository whose id is `project_name`"
   ]
  },
  {
   "cell_type": "code",
   "execution_count": 108,
   "metadata": {},
   "outputs": [
    {
     "name": "stderr",
     "output_type": "stream",
     "text": [
      "  % Total    % Received % Xferd  Average Speed   Time    Time     Time  Current\n",
      "                                 Dload  Upload   Total   Spent    Left  Speed\n",
      "  0     0    0     0    0     0      0      0 --:--:-- --:--:-- --:--:--     0\n"
     ]
    },
    {
     "data": {
      "text/plain": [
       "0"
      ]
     },
     "execution_count": 108,
     "metadata": {},
     "output_type": "execute_result"
    }
   ],
   "source": [
    "cmd = f\"curl -X DELETE -H \\\"Content-Type:application/x-turtle\\\" {graphdb_url}/repositories/{project_name}/statements\"\n",
    "os.system(cmd)"
   ]
  },
  {
   "cell_type": "markdown",
   "metadata": {},
   "source": [
    "### Import ontology"
   ]
  },
  {
   "cell_type": "code",
   "execution_count": 109,
   "metadata": {},
   "outputs": [
    {
     "name": "stderr",
     "output_type": "stream",
     "text": [
      "  % Total    % Received % Xferd  Average Speed   Time    Time     Time  Current\n",
      "                                 Dload  Upload   Total   Spent    Left  Speed\n",
      "  0     0    0     0    0     0      0      0 --:--:-- --:--:-- --:--:--     0"
     ]
    },
    {
     "name": "stderr",
     "output_type": "stream",
     "text": [
      "100 19366    0     0  100 19366      0   196k --:--:-- --:--:-- --:--:--  197k\n"
     ]
    },
    {
     "data": {
      "text/plain": [
       "0"
      ]
     },
     "execution_count": 109,
     "metadata": {},
     "output_type": "execute_result"
    }
   ],
   "source": [
    "abs_ont_file = os.path.abspath(ont_file)\n",
    "cmd = f\"curl -X POST -H \\\"Content-Type:application/x-turtle\\\" -T \\\"{abs_ont_file}\\\" {graphdb_url}/repositories/{project_name}/statements\"\n",
    "\n",
    "os.system(cmd)"
   ]
  },
  {
   "cell_type": "markdown",
   "metadata": {},
   "source": [
    "### Import created graph from Wikidata"
   ]
  },
  {
   "cell_type": "code",
   "execution_count": 110,
   "metadata": {},
   "outputs": [
    {
     "name": "stderr",
     "output_type": "stream",
     "text": [
      "  % Total    % Received % Xferd  Average Speed   Time    Time     Time  Current\n",
      "                                 Dload  Upload   Total   Spent    Left  Speed\n",
      "  0     0    0     0    0     0      0      0 --:--:-- --:--:-- --:--:--     0"
     ]
    },
    {
     "name": "stderr",
     "output_type": "stream",
     "text": [
      "100 1987k    0     0  100 1987k      0  1613k  0:00:01  0:00:01 --:--:-- 1613k\n"
     ]
    },
    {
     "data": {
      "text/plain": [
       "0"
      ]
     },
     "execution_count": 110,
     "metadata": {},
     "output_type": "execute_result"
    }
   ],
   "source": [
    "cmd = f\"curl -X POST -H \\\"Content-Type:application/x-turtle\\\" -T \\\"{abs_out_wikidata_file}\\\" {graphdb_url}/repositories/{project_name}/rdf-graphs/wikidata\"\n",
    "os.system(cmd)"
   ]
  },
  {
   "cell_type": "markdown",
   "metadata": {},
   "source": [
    "### Structure data from `addr_file` to export it in `out_file`"
   ]
  },
  {
   "cell_type": "code",
   "execution_count": 111,
   "metadata": {},
   "outputs": [
    {
     "data": {
      "text/plain": [
       "<Graph identifier=N6a48c41758224731a5e311d75d3a2da0 (<class 'rdflib.graph.Graph'>)>"
      ]
     },
     "execution_count": 111,
     "metadata": {},
     "output_type": "execute_result"
    }
   ],
   "source": [
    "f = open(os.path.abspath(addr_file))\n",
    "data = json.load(f)\n",
    "f.close()\n",
    "\n",
    "g = Graph()\n",
    "\n",
    "for addr in data[\"addresses\"]:\n",
    "    try:\n",
    "        create_address(g, namespace_url, addr.get(\"label\"), addr.get(\"lang\"), addr.get(\"landmarks\"), addr.get(\"spatial_relations\"), addr.get(\"target\"), addr.get(\"date\"))\n",
    "    except TypeError:\n",
    "        pass\n",
    "\n",
    "g.serialize(destination=os.path.join(abs_out_addr_file))"
   ]
  },
  {
   "cell_type": "markdown",
   "metadata": {},
   "source": [
    "### Import created graph from directories"
   ]
  },
  {
   "cell_type": "code",
   "execution_count": 112,
   "metadata": {},
   "outputs": [
    {
     "name": "stderr",
     "output_type": "stream",
     "text": [
      "  % Total    % Received % Xferd  Average Speed   Time    Time     Time  Current\n",
      "                                 Dload  Upload   Total   Spent    Left  Speed\n",
      "100  4525    0     0  100  4525      0  43656 --:--:-- --:--:-- --:--:-- 43932\n"
     ]
    },
    {
     "data": {
      "text/plain": [
       "0"
      ]
     },
     "execution_count": 112,
     "metadata": {},
     "output_type": "execute_result"
    }
   ],
   "source": [
    "cmd = f\"curl -X POST -H \\\"Content-Type:application/x-turtle\\\" -T \\\"{abs_out_addr_file}\\\" {graphdb_url}/repositories/{project_name}/rdf-graphs/{addr_graph_name}\"\n",
    "os.system(cmd)"
   ]
  },
  {
   "cell_type": "markdown",
   "metadata": {},
   "source": [
    "### Get links between data extracted from wikidata and data from sources"
   ]
  },
  {
   "cell_type": "code",
   "execution_count": 113,
   "metadata": {},
   "outputs": [],
   "source": [
    "query_template = \"\"\"\n",
    "PREFIX addr: <http://rdf.geohistoricaldata.org/address#>\n",
    "PREFIX rdfs: <http://www.w3.org/2000/01/rdf-schema#>\n",
    "PREFIX xsd: <http://www.w3.org/2001/XMLSchema#>\n",
    "PREFIX owl: <http://www.w3.org/2002/07/owl#>\n",
    "\n",
    "INSERT {{\n",
    "    GRAPH <{graphdb_url}/repositories/{project_name}/rdf-graphs/{graph_name}> {{?streetG1 owl:sameAs ?streetG2.}}\n",
    "}}\n",
    "WHERE {{\n",
    "    GRAPH <{graphdb_url}/repositories/{project_name}/rdf-graphs/{graph_name}> {{\n",
    "        ?streetG1 addr:isLandmarkType addr:Thoroughfare ; rdfs:label ?streetNameG1; addr:dateTime ?date.\n",
    "        BIND (LCASE(?streetNameG1) AS ?lcStreetNameG1)\n",
    "    }}\n",
    "    GRAPH <{graphdb_url}/repositories/{project_name}/rdf-graphs/wikidata> {{\n",
    "        ?streetG2 addr:isLandmarkType addr:Thoroughfare ; rdfs:label ?streetG2Name; addr:hasOfficialName ?offNameSt.\n",
    "        ?offNameSt rdfs:label ?offName.\n",
    "        OPTIONAL{{?offNameSt addr:startDate ?sd}}\n",
    "        OPTIONAL{{?offNameSt addr:endDate ?ed}}\n",
    "        BIND(IF(BOUND(?sd), ?sd, \"{neg_inf_date}\"^^xsd:dateTime) AS ?startDate)\n",
    "        BIND(IF(BOUND(?ed), ?ed, \"{pos_inf_date}\"^^xsd:dateTime) AS ?endDate)\n",
    "        FILTER (?date >= ?startDate && ?date <= ?endDate)\n",
    "        BIND (LCASE(?offName) AS ?lcStreetNameG2)\n",
    "    }}\n",
    "    FILTER (?lcStreetNameG1 = ?lcStreetNameG2)\n",
    "}}\n",
    "\"\"\""
   ]
  },
  {
   "cell_type": "markdown",
   "metadata": {},
   "source": [
    "### Get `owl:sameAs` links for each street of each source graph with street of Wikidata graph"
   ]
  },
  {
   "cell_type": "code",
   "execution_count": 114,
   "metadata": {},
   "outputs": [
    {
     "name": "stdout",
     "output_type": "stream",
     "text": [
      "\n",
      "PREFIX addr: <http://rdf.geohistoricaldata.org/address#>\n",
      "PREFIX rdfs: <http://www.w3.org/2000/01/rdf-schema#>\n",
      "PREFIX xsd: <http://www.w3.org/2001/XMLSchema#>\n",
      "PREFIX owl: <http://www.w3.org/2002/07/owl#>\n",
      "\n",
      "INSERT {\n",
      "    GRAPH <http://localhost:7200/repositories/paris_directories/rdf-graphs/addresses> {?streetG1 owl:sameAs ?streetG2.}\n",
      "}\n",
      "WHERE {\n",
      "    GRAPH <http://localhost:7200/repositories/paris_directories/rdf-graphs/addresses> {\n",
      "        ?streetG1 addr:isLandmarkType addr:Thoroughfare ; rdfs:label ?streetNameG1; addr:dateTime ?date.\n",
      "        BIND (LCASE(?streetNameG1) AS ?lcStreetNameG1)\n",
      "    }\n",
      "    GRAPH <http://localhost:7200/repositories/paris_directories/rdf-graphs/wikidata> {\n",
      "        ?streetG2 addr:isLandmarkType addr:Thoroughfare ; rdfs:label ?streetG2Name; addr:hasOfficialName ?offNameSt.\n",
      "        ?offNameSt rdfs:label ?offName.\n",
      "        OPTIONAL{?offNameSt addr:startDate ?sd}\n",
      "        OPTIONAL{?offNameSt addr:endDate ?ed}\n",
      "        BIND(IF(BOUND(?sd), ?sd, \"-6000-01-01\"^^xsd:dateTime) AS ?startDate)\n",
      "        BIND(IF(BOUND(?ed), ?ed, \"6000-01-01\"^^xsd:dateTime) AS ?endDate)\n",
      "        FILTER (?date >= ?startDate && ?date <= ?endDate)\n",
      "        BIND (LCASE(?offName) AS ?lcStreetNameG2)\n",
      "    }\n",
      "    FILTER (?lcStreetNameG1 = ?lcStreetNameG2)\n",
      "}\n",
      "\n"
     ]
    }
   ],
   "source": [
    "pos_inf_date = \"6000-01-01\"\n",
    "neg_inf_date = \"-6000-01-01\"\n",
    "\n",
    "query = query_template.format(graph_name=addr_graph_name,\n",
    "                                neg_inf_date=neg_inf_date, pos_inf_date=pos_inf_date,\n",
    "                                project_name=project_name, graphdb_url=graphdb_url)\n",
    "query_encoded = up.quote(query)\n",
    "cmd = f\"curl -X POST -H \\\"Content-Type:application/x-www-form-urlencoded\\\" -d \\\"update={query_encoded}\\\" {graphdb_url}/repositories/{project_name}/statements\"\n",
    "\n",
    "# os.system(cmd)\n"
   ]
  }
 ],
 "metadata": {
  "kernelspec": {
   "display_name": "Python 3",
   "language": "python",
   "name": "python3"
  },
  "language_info": {
   "codemirror_mode": {
    "name": "ipython",
    "version": 3
   },
   "file_extension": ".py",
   "mimetype": "text/x-python",
   "name": "python",
   "nbconvert_exporter": "python",
   "pygments_lexer": "ipython3",
   "version": "3.10.12"
  },
  "orig_nbformat": 4
 },
 "nbformat": 4,
 "nbformat_minor": 2
}
