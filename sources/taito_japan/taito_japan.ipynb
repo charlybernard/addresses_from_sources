{
 "cells": [
  {
   "cell_type": "markdown",
   "metadata": {},
   "source": [
    "## Introduction"
   ]
  },
  {
   "cell_type": "markdown",
   "metadata": {},
   "source": [
    "### Pré-requis\n",
    "\n",
    "* Ce notebook permet de peupler l'ontologie relative aux adresses définies dans le fichier lié à la variable `ont_file`.\n",
    "* Il faut s'assurer que l'environnement Python qui va lancer le script possède les librairies suivantes : `os`, `sys`, `ssl`, `xml`, `rdflib`, `urllib`, `importlib`, `SPARQLWrapper`\n",
    "* Avant de procéder à l'exécution du script, il faut installer deux logiciels qui devront être tournés durant le processus :\n",
    "    * [Ontotext Refine](https://www.ontotext.com/products/ontotext-refine/) (ou OntoRefine) qui permet d'automatiser la conversion de données textuelles en un graphe de connaissances. Dans la section des variables globables (voir ci-dessous), deux variables sont liées au logiciel :\n",
    "        * `ontorefine_cli` : chemin absolu de l'interface en ligne de commande (CLI) d'OntoRefine. Pour trouver ce chemin, il suffit de cliquer sur le bouton `Open CLI directory` présent sur l'interface de lancement du logiciel. Cela vous renvoie vers le dossier contenant la CLI dont le nom est `ontorefine-cli`.\n",
    "        * `ontorefine_url` : l'URL de l'application web.  Pour trouver cette valeur, il suffit de cliquer sur le bouton `Open Refine web application` présent sur l'interface de lancement du logiciel. La valeur à associer à `ontorefine_url` est l'url à laquelle on enlève `/projects`.\n",
    "    * [GraphDB](https://graphdb.ontotext.com/) qui permet de stocker et de travailler sur des graphes de connaissance. Une variable est associée au logiciel : `graphdb_url` qui est l'URL de l'application web. Le procédé est similaire à celui de `ontorefine_url` pour trouver sa valeur.\n",
    "\n",
    "![Interface d'OntoRefine avec les boutons \\`Open Refine web application\\` et \\`Open CLI directory\\`](/../../img/interface_ontorefine.png)"
   ]
  },
  {
   "cell_type": "markdown",
   "metadata": {},
   "source": [
    "### Fichiers du dossier\n",
    "* `ont_file` est le fichier comprenant l'ontologie des adresses.\n",
    "* `data_file` : le but du notebook est de peupler l'ontologie. Ce peuplement se fait grâce aux données de `{inserer la source des données}` dont les adresses sont stockées localement dans le fichier csv lié à la variable `data_file`.\n",
    "* `mapping_file` : Afin de convertir les données présentes dans le fichier précédemment cité, un mapping est nécessaire pour les convertir en données RDF selon les recommandations de l'ontologie. Pour cela, le fichier json lié `mapping_file` existe et est utilisé par OntoRefine.\n",
    "* `query_file` : À la création des données via OntoRefine, il y a des données dupliquées. Un ensemble de requêtes SPARQL détecte ces doublons et supprimer les données inutiles. Ces requêtes sont dans le fichier `query_file`."
   ]
  },
  {
   "cell_type": "markdown",
   "metadata": {},
   "source": [
    "### Présentation du processus\n",
    "* Le processus est divisé en quatre parties :\n",
    "    * la première fait des traitements généraux :\n",
    "        * import des librairies\n",
    "        * définition des variables et modification de ces dernières si nécessaire (conversion des chemins relatifs en chemins absolus pour éviter les mauvaises surprises par exemple)\n",
    "        * créer de dossiers s'ils n'existent pas (`out_folder` ou `tmp_folder`).\n",
    "    * la deuxième est relative à OntoRefine :\n",
    "        * création d'un projet à partir du fichier lié à `data_file` ;\n",
    "        * conversion en données RDF grâce au fichier `mapping_file` ;\n",
    "        * export des données créées dans un graphe stocké dans le fichier `out_ontorefine_file` ;\n",
    "        * suppression du projet.\n",
    "    * la troisième est liée à l'import des données créées par OntoRefine dans GraphDB :\n",
    "        * création d'un répertoire ayant `project_name` comme identifiant. S'il existe déjà, on le vide de tous ses triplets. C'est pourquoi il faut éviter de définir un identifiant qui se réfère à un répertoire déjà existant ;\n",
    "        * import de l'ontologie présente dans `ont_file` et des données créées par OntoRefine qui sont dans `out_ontorefine_file` ;\n",
    "        * nettoyage des données grâce aux requêtes présentes dans `query_file`.\n",
    "    * la dernière partie permet de répondre aux questions de compétence liées au modelet adresse qui a mené à la création du fichier `ont_file`. Les réponses à ces questions sont enregistrés dans le dossier `out_folder` sous la forme des fichiers csv. Les questions sont les suivantes :\n",
    "        * *Quelles sont les adresses faisant référence à un lieu dont la localisation est située dans une zone géographique donnée ?*\n",
    "        * *Quelles sont les adresses faisant référence à un numéro d'immeuble situé le long d'une rue donnée ?*\n",
    "        * *Quelles sont les coordonnées d'une adresse donnée (définie par son libellé) ?*"
   ]
  },
  {
   "cell_type": "markdown",
   "metadata": {},
   "source": [
    "## 1. Traitements généraux"
   ]
  },
  {
   "cell_type": "markdown",
   "metadata": {},
   "source": [
    "### Import des librairies"
   ]
  },
  {
   "cell_type": "code",
   "execution_count": null,
   "metadata": {},
   "outputs": [],
   "source": [
    "import os\n",
    "import urllib.parse as up\n",
    "import importlib.util"
   ]
  },
  {
   "cell_type": "markdown",
   "metadata": {},
   "source": [
    "### Import des variables globales"
   ]
  },
  {
   "cell_type": "code",
   "execution_count": null,
   "metadata": {},
   "outputs": [],
   "source": [
    "ont_file = \"address_ont.ttl\"\n",
    "data_file = \"addresses.csv\"\n",
    "query_file = \"query.txt\"\n",
    "mapping_file = \"mapping.json\"\n",
    "out_ontorefine_file = \"addresses-temp.ttl\"\n",
    "out_file = \"addresses.ttl\"\n",
    "local_config_file = \"repo_config.ttl\"\n",
    "\n",
    "out_folder = \"out\"\n",
    "tmp_folder = \"tmp\"\n",
    "\n",
    "export_format = \"TURTLE\"\n",
    "\n",
    "project_name = \"taito_japan\"\n",
    "\n",
    "ontorefine_url = \"http://localhost:7333\"\n",
    "graphdb_url = \"http://localhost:7200\"\n",
    "\n",
    "ontorefine_cli = \"/opt/ontotext-refine/lib/app/bin/ontorefine-cli\"\n",
    "ontorefine_cli = \"/Applications/Ontotext\\ Refine.app/Contents/app/bin/ontorefine-cli\"\n",
    "\n",
    "python_fn_file = \"functions.py\"\n",
    "python_code_folder = \"../../code\""
   ]
  },
  {
   "cell_type": "markdown",
   "metadata": {},
   "source": [
    "### Traitement des variables globales\n",
    "\n",
    "* Obtention des chemins absolus des fichiers à partir des chemins relatifs donnés dans la section précédente\n",
    "* Création d'un dossier de sortie s'il n'existe pas encore pour stocker les fichiers de sortie\n",
    "\n"
   ]
  },
  {
   "cell_type": "code",
   "execution_count": null,
   "metadata": {},
   "outputs": [],
   "source": [
    "tmp_folder = os.path.abspath(tmp_folder)\n",
    "out_folder = os.path.abspath(out_folder)\n",
    "python_code_folder = os.path.abspath(python_code_folder)\n",
    "\n",
    "ont_file = os.path.abspath(ont_file)\n",
    "data_file = os.path.abspath(data_file)\n",
    "query_file = os.path.abspath(query_file)\n",
    "mapping_file = os.path.abspath(mapping_file)\n",
    "out_ontorefine_file = os.path.abspath(os.path.join(tmp_folder,out_ontorefine_file))\n",
    "out_file = os.path.join(out_folder, out_file)\n",
    "python_fn_file = os.path.join(python_code_folder, python_fn_file)\n",
    "local_config_file = os.path.join(tmp_folder, local_config_file)"
   ]
  },
  {
   "cell_type": "markdown",
   "metadata": {},
   "source": [
    "### Import d'un module situé dans le dossier `code`"
   ]
  },
  {
   "cell_type": "code",
   "execution_count": null,
   "metadata": {},
   "outputs": [],
   "source": [
    "# Spécifie le module qui doit être importé par rapport au chemin du fichier\n",
    "spec=importlib.util.spec_from_file_location(\"fn\",python_fn_file)\n",
    "\n",
    "# Création d'un nouveau module basé sur spec\n",
    "fn = importlib.util.module_from_spec(spec)\n",
    " \n",
    "# Exécution du module dans son propre espace de noms lorsqu'un module est importé ou rechargé.\n",
    "spec.loader.exec_module(fn)"
   ]
  },
  {
   "cell_type": "markdown",
   "metadata": {},
   "source": [
    "### Création de dossiers s'ils n'existent pas"
   ]
  },
  {
   "cell_type": "code",
   "execution_count": null,
   "metadata": {},
   "outputs": [],
   "source": [
    "fn.create_folder_if_not_exists(out_folder)\n",
    "fn.create_folder_if_not_exists(tmp_folder)"
   ]
  },
  {
   "cell_type": "markdown",
   "metadata": {},
   "source": [
    "## 2. Structuration des données contenues dans `data_file` via OntoRefine"
   ]
  },
  {
   "cell_type": "markdown",
   "metadata": {},
   "source": [
    ":warning: Dans cette partie, il faut que OntoRefine soit lancé avnt d'exécuter les lignes de code.\n"
   ]
  },
  {
   "cell_type": "markdown",
   "metadata": {},
   "source": [
    "### Création d'un projet Ontorefine à partir d'un fichier CSV défini dans `data_file`"
   ]
  },
  {
   "cell_type": "code",
   "execution_count": null,
   "metadata": {},
   "outputs": [],
   "source": [
    "project_id = fn.create_ontorefine_project(ontorefine_cli, ontorefine_url, project_name, data_file)"
   ]
  },
  {
   "cell_type": "markdown",
   "metadata": {},
   "source": [
    "### Export des données du projet en RDF à partir du fichier de mapping `mapping_file`"
   ]
  },
  {
   "cell_type": "code",
   "execution_count": null,
   "metadata": {},
   "outputs": [],
   "source": [
    "fn.export_rdf_data_of_ontorefine_project(ontorefine_cli, ontorefine_url, project_id, mapping_file, out_ontorefine_file)"
   ]
  },
  {
   "cell_type": "markdown",
   "metadata": {},
   "source": [
    "### Suppression du projet Ontorefine récemment créé"
   ]
  },
  {
   "cell_type": "code",
   "execution_count": null,
   "metadata": {},
   "outputs": [],
   "source": [
    "fn.delete_ontorefine_project(ontorefine_cli, ontorefine_url, project_id)"
   ]
  },
  {
   "cell_type": "markdown",
   "metadata": {},
   "source": [
    "## 3. Import des données dans GraphDB et nettoyage"
   ]
  },
  {
   "cell_type": "markdown",
   "metadata": {},
   "source": [
    ":warning: Lancer GraphDB avant de lancer les commandes ci-dessous (pour que `graphdb_url` fonctionne)."
   ]
  },
  {
   "cell_type": "markdown",
   "metadata": {},
   "source": [
    "### Création d'un répertoire dont l'id vaut `project_name`"
   ]
  },
  {
   "cell_type": "code",
   "execution_count": null,
   "metadata": {},
   "outputs": [],
   "source": [
    "fn.create_config_local_repository_file(local_config_file, project_name)\n",
    "url = f\"{graphdb_url}/rest/repositories\"\n",
    "curl_cmd_local = fn.get_curl_command(\"POST\", url, content_type=\"multipart/form-data\", form=f\"config=@{local_config_file}\")\n",
    "os.system(curl_cmd_local)"
   ]
  },
  {
   "cell_type": "markdown",
   "metadata": {},
   "source": [
    "### Vidage du répertoire s'il existe déjà et qu'il n'est pas vide"
   ]
  },
  {
   "cell_type": "code",
   "execution_count": null,
   "metadata": {},
   "outputs": [],
   "source": [
    "url = f\"{graphdb_url}/repositories/{project_name}/statements\"\n",
    "cmd = fn.get_curl_command(\"DELETE\", url, content_type=\"application/x-turtle\")\n",
    "os.system(cmd)"
   ]
  },
  {
   "cell_type": "markdown",
   "metadata": {},
   "source": [
    "### Import de l'ontologie et des triplets créés dans la partie liée à Ontorefine"
   ]
  },
  {
   "cell_type": "code",
   "execution_count": null,
   "metadata": {},
   "outputs": [],
   "source": [
    "url = f\"{graphdb_url}/repositories/{project_name}/statements\"\n",
    "cmd_1 = fn.get_curl_command(\"POST\", url, content_type=\"application/x-turtle\", local_file=ont_file)\n",
    "cmd_2 = fn.get_curl_command(\"POST\", url, content_type=\"application/x-turtle\", local_file=out_ontorefine_file)\n",
    "\n",
    "os.system(cmd_1)\n",
    "os.system(cmd_2)"
   ]
  },
  {
   "cell_type": "markdown",
   "metadata": {},
   "source": [
    "### Nettoyage les données en supprimant les doublons"
   ]
  },
  {
   "cell_type": "code",
   "execution_count": null,
   "metadata": {},
   "outputs": [],
   "source": [
    "# Lecture du fichier contenant la requête pour nettoyer les données\n",
    "query = fn.read_file(query_file)\n",
    "\n",
    "query_encoded = up.quote(query)\n",
    "url = f\"{graphdb_url}/repositories/{project_name}/statements\"\n",
    "cmd = fn.get_curl_command(\"POST\", url, content_type=\"application/x-www-form-urlencoded\", post_data=f\"update={query_encoded}\")\n",
    "\n",
    "os.system(cmd)"
   ]
  },
  {
   "cell_type": "markdown",
   "metadata": {},
   "source": [
    "## 4. Réponses aux questions de compétence"
   ]
  },
  {
   "cell_type": "markdown",
   "metadata": {},
   "source": [
    "### Quelles sont les adresses faisant référence à un lieu dont la localisation est située dans une zone géographique donnée ?"
   ]
  },
  {
   "cell_type": "code",
   "execution_count": null,
   "metadata": {},
   "outputs": [],
   "source": [
    "proj_uri = \"http://www.opengis.net/def/crs/OGC/1.3/CRS84\"\n",
    "polygon_wkt = \"POLYGON ((139.780855 35.705489, 139.763281 35.704548, 139.768667 35.698118, 139.783087 35.699268, 139.780855 35.705489))\"\n",
    "out_file_name = \"query1-out.csv\"\n",
    "\n",
    "query = f\"\"\"\n",
    "PREFIX rdfs: <http://www.w3.org/2000/01/rdf-schema#>\n",
    "PREFIX rdf: <http://www.w3.org/1999/02/22-rdf-syntax-ns#>\n",
    "PREFIX addr: <http://rdf.geohistoricaldata.org/address#>\n",
    "PREFIX gsp: <http://www.opengis.net/ont/geosparql#>\n",
    "PREFIX gspf: <http://www.opengis.net/def/function/geosparql/>\n",
    "\n",
    "select ?s ?addressLabel ?coords where {{\n",
    "    ?s a addr:Address; addr:targets [gsp:asWKT ?coords]; rdfs:label ?addressLabel.\n",
    "        FILTER (\n",
    "        gspf:sfWithin(\n",
    "            ?coords,\n",
    "            \"<{proj_uri}> {polygon_wkt}\"^^gsp:wktLiteral\n",
    "        )\n",
    "    )\n",
    "\n",
    "}}\n",
    "\"\"\"\n",
    "\n",
    "fn.select_query(query, graphdb_url, project_name, os.path.join(out_folder,out_file_name))"
   ]
  },
  {
   "cell_type": "markdown",
   "metadata": {},
   "source": [
    "### Quelles sont les adresses faisant référence à un numéro d'immeuble situées dans un district (défini par son label) ?"
   ]
  },
  {
   "cell_type": "code",
   "execution_count": null,
   "metadata": {},
   "outputs": [],
   "source": [
    "district_name = \"秋葉原\"\n",
    "lang = \"ja\"\n",
    "out_file_name = \"query2-out.csv\"\n",
    "\n",
    "query = f\"\"\"\n",
    "PREFIX rdfs: <http://www.w3.org/2000/01/rdf-schema#>\n",
    "PREFIX addr: <http://rdf.geohistoricaldata.org/address#>\n",
    "PREFIX geo: <http://www.opengis.net/ont/geosparql#>\n",
    "SELECT ?address ?addressLabel ?geom WHERE {{\n",
    "    ?lm a addr:Landmark; addr:isLandmarkType addr:District; rdfs:label ?districtName.\n",
    "    FILTER(LCASE(STR(?districtName)) = \\\"{district_name.lower()}\\\" && LANG(?districtName) = \\\"{lang}\\\")\n",
    "    ?address a addr:Address; rdfs:label ?addressLabel.\n",
    "    OPTIONAL {{?address addr:targets [geo:asWKT ?geom].}}\n",
    "    {{?address addr:firstStep ?addrSegment}}UNION{{?address addr:firstStep [addr:nextStep+ ?addrSegment]}}\n",
    "    ?addrSegment a addr:AddressSegment; addr:relatum ?lm.\n",
    "}}\n",
    "\"\"\"\n",
    "\n",
    "fn.select_query(query, graphdb_url, project_name, os.path.join(out_folder,out_file_name))"
   ]
  },
  {
   "cell_type": "markdown",
   "metadata": {},
   "source": [
    "### Quelles sont les coordonnées d'une adresse donnée (définie par son libellé) ?"
   ]
  },
  {
   "cell_type": "code",
   "execution_count": null,
   "metadata": {},
   "outputs": [],
   "source": [
    "address_name = \"1-11, Yaesu 秋葉原-Chome, 13106, 東京都\"\n",
    "lang = \"ja\"\n",
    "out_file_name = \"query3-out.csv\"\n",
    "\n",
    "query = f\"\"\"\n",
    "PREFIX rdfs: <http://www.w3.org/2000/01/rdf-schema#>\n",
    "PREFIX rdf: <http://www.w3.org/1999/02/22-rdf-syntax-ns#>\n",
    "PREFIX addr: <http://rdf.geohistoricaldata.org/address#>\n",
    "PREFIX gsp: <http://www.opengis.net/ont/geosparql#>\n",
    "\n",
    "SELECT ?item ?addressLabel ?coords WHERE {{\n",
    "    ?item a addr:Address;\n",
    "          rdfs:label ?addressLabel; \n",
    "          addr:targets [gsp:asWKT ?coords].\n",
    "    FILTER(LCASE(STR(?addressLabel)) = \\\"{address_name.lower()}\\\" && LANG(?addressLabel) = \\\"{lang}\\\")\n",
    "}}\n",
    "\"\"\"\n",
    "\n",
    "fn.select_query(query, graphdb_url, project_name, os.path.join(out_folder,out_file_name))"
   ]
  }
 ],
 "metadata": {
  "kernelspec": {
   "display_name": "Python 3",
   "language": "python",
   "name": "python3"
  },
  "language_info": {
   "codemirror_mode": {
    "name": "ipython",
    "version": 3
   },
   "file_extension": ".py",
   "mimetype": "text/x-python",
   "name": "python",
   "nbconvert_exporter": "python",
   "pygments_lexer": "ipython3",
   "version": "3.9.0"
  },
  "orig_nbformat": 4
 },
 "nbformat": 4,
 "nbformat_minor": 2
}
